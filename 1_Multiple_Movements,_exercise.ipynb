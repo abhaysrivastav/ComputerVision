{
  "nbformat": 4,
  "nbformat_minor": 0,
  "metadata": {
    "kernelspec": {
      "display_name": "Python 3",
      "language": "python",
      "name": "python3"
    },
    "language_info": {
      "codemirror_mode": {
        "name": "ipython",
        "version": 3
      },
      "file_extension": ".py",
      "mimetype": "text/x-python",
      "name": "python",
      "nbconvert_exporter": "python",
      "pygments_lexer": "ipython3",
      "version": "3.6.3"
    },
    "colab": {
      "name": "1. Multiple Movements, exercise.ipynb",
      "version": "0.3.2",
      "provenance": [],
      "include_colab_link": true
    }
  },
  "cells": [
    {
      "cell_type": "markdown",
      "metadata": {
        "id": "view-in-github",
        "colab_type": "text"
      },
      "source": [
        "<a href=\"https://colab.research.google.com/github/abhaysrivastav/ComputerVision/blob/master/1_Multiple_Movements%2C_exercise.ipynb\" target=\"_parent\"><img src=\"https://colab.research.google.com/assets/colab-badge.svg\" alt=\"Open In Colab\"/></a>"
      ]
    },
    {
      "cell_type": "markdown",
      "metadata": {
        "id": "hC0frnhFKn6b",
        "colab_type": "text"
      },
      "source": [
        "# Multiple Movements\n",
        "\n",
        "Let's see how our robot responds to moving multiple times without sensing!\n",
        "\n"
      ]
    },
    {
      "cell_type": "markdown",
      "metadata": {
        "id": "LwejfRT4Kn6g",
        "colab_type": "text"
      },
      "source": [
        "First let's include our usual resource imports and display function."
      ]
    },
    {
      "cell_type": "code",
      "metadata": {
        "id": "4as63braKn6k",
        "colab_type": "code",
        "colab": {}
      },
      "source": [
        "# importing resources\n",
        "import matplotlib.pyplot as plt\n",
        "import numpy as np"
      ],
      "execution_count": 0,
      "outputs": []
    },
    {
      "cell_type": "markdown",
      "metadata": {
        "id": "_ferWO2GKn6z",
        "colab_type": "text"
      },
      "source": [
        "A helper function for visualizing a distribution."
      ]
    },
    {
      "cell_type": "code",
      "metadata": {
        "id": "lduu3csZKn62",
        "colab_type": "code",
        "colab": {}
      },
      "source": [
        "def display_map(grid, bar_width=1):\n",
        "    if(len(grid) > 0):\n",
        "        x_labels = range(len(grid))\n",
        "        plt.bar(x_labels, height=grid, width=bar_width, color='b')\n",
        "        plt.xlabel('Grid Cell')\n",
        "        plt.ylabel('Probability')\n",
        "        plt.ylim(0, 1) # range of 0-1 for probability values \n",
        "        plt.title('Probability of the robot being at each cell in the grid')\n",
        "        plt.xticks(np.arange(min(x_labels), max(x_labels)+1, 1))\n",
        "        plt.show()\n",
        "    else:\n",
        "        print('Grid is empty')\n"
      ],
      "execution_count": 0,
      "outputs": []
    },
    {
      "cell_type": "markdown",
      "metadata": {
        "collapsed": true,
        "id": "GCi3BPpQKn7C",
        "colab_type": "text"
      },
      "source": [
        "### QUIZ: Write code that moves 1000 times and then prints the resulting probability distribution.\n",
        "\n",
        "You are given the initial variables and a complete `move` function (that incorporates uncertainty), below."
      ]
    },
    {
      "cell_type": "code",
      "metadata": {
        "id": "OYKH5qQ9Kn7G",
        "colab_type": "code",
        "colab": {
          "base_uri": "https://localhost:8080/",
          "height": 312
        },
        "outputId": "e4cd57d0-51db-48bb-d71b-b00ae56a44c6"
      },
      "source": [
        "# given initial variables\n",
        "p=[0, 1, 0, 0, 0]\n",
        "# the color of each grid cell in the 1D world\n",
        "world=['green', 'red', 'red', 'green', 'green']\n",
        "# Z, the sensor reading ('red' or 'green')\n",
        "Z = 'red'\n",
        "pHit = 0.6\n",
        "pMiss = 0.2\n",
        "\n",
        "pExact = 0.8\n",
        "pOvershoot = 0.1\n",
        "pUndershoot = 0.1\n",
        "\n",
        "# Complete the move function\n",
        "def move(p, U):\n",
        "    q=[]\n",
        "    # iterate through all values in p\n",
        "    for i in range(len(p)):\n",
        "        # use the modulo operator to find the new location for a p value\n",
        "        # this finds an index that is shifted by the correct amount\n",
        "        index = (i-U) % len(p)\n",
        "        nextIndex = (index+1) % len(p)\n",
        "        prevIndex = (index-1) % len(p)\n",
        "        s = pExact * p[index]\n",
        "        s = s + pOvershoot  * p[nextIndex]\n",
        "        s = s + pUndershoot * p[prevIndex]\n",
        "        # append the correct, modified value of p to q\n",
        "        q.append(s)\n",
        "    return q\n",
        "\n",
        "# Here is code for moving twice\n",
        "p = move(p, 1)\n",
        "p = move(p, 1)\n",
        "print(p)\n",
        "display_map(p)"
      ],
      "execution_count": 3,
      "outputs": [
        {
          "output_type": "stream",
          "text": [
            "[0.010000000000000002, 0.010000000000000002, 0.16000000000000003, 0.6600000000000001, 0.16000000000000003]\n"
          ],
          "name": "stdout"
        },
        {
          "output_type": "display_data",
          "data": {
            "image/png": "[encoded data removed]",
            "text/plain": [
              "<Figure size 432x288 with 1 Axes>"
            ]
          },
          "metadata": {
            "tags": []
          }
        }
      ]
    },
    {
      "cell_type": "code",
      "metadata": {
        "id": "2_UFenhtKn7W",
        "colab_type": "code",
        "colab": {
          "base_uri": "https://localhost:8080/",
          "height": 312
        },
        "outputId": "f4b5d161-a34a-442c-bff5-7f8ecb25f08b"
      },
      "source": [
        "## TODO: Write code for moving 1000 times\n",
        "for i in range(1000):\n",
        "    p = move(p, 1)\n",
        "    \n",
        "print(p)\n",
        "display_map(p)"
      ],
      "execution_count": 4,
      "outputs": [
        {
          "output_type": "stream",
          "text": [
            "[0.2000000000000035, 0.2000000000000035, 0.20000000000000365, 0.20000000000000373, 0.20000000000000365]\n"
          ],
          "name": "stdout"
        },
        {
          "output_type": "display_data",
          "data": {
            "image/png": "[encoded data removed]",
            "text/plain": [
              "<Figure size 432x288 with 1 Axes>"
            ]
          },
          "metadata": {
            "tags": []
          }
        }
      ]
    },
    {
      "cell_type": "code",
      "metadata": {
        "id": "MbK8Hjh4Kn7i",
        "colab_type": "code",
        "colab": {}
      },
      "source": [
        ""
      ],
      "execution_count": 0,
      "outputs": []
    }
  ]
}