{
  "nbformat": 4,
  "nbformat_minor": 0,
  "metadata": {
    "kernelspec": {
      "display_name": "Python 3",
      "language": "python",
      "name": "python3"
    },
    "language_info": {
      "codemirror_mode": {
        "name": "ipython",
        "version": 3
      },
      "file_extension": ".py",
      "mimetype": "text/x-python",
      "name": "python",
      "nbconvert_exporter": "python",
      "pygments_lexer": "ipython3",
      "version": "3.6.3"
    },
    "colab": {
      "name": "1. Inexact Move Function, exercise.ipynb",
      "version": "0.3.2",
      "provenance": [],
      "include_colab_link": true
    }
  },
  "cells": [
    {
      "cell_type": "markdown",
      "metadata": {
        "id": "view-in-github",
        "colab_type": "text"
      },
      "source": [
        "<a href=\"https://colab.research.google.com/github/abhaysrivastav/ComputerVision/blob/master/1_Inexact_Move_Function%2C_exercise.ipynb\" target=\"_parent\"><img src=\"https://colab.research.google.com/assets/colab-badge.svg\" alt=\"Open In Colab\"/></a>"
      ]
    },
    {
      "cell_type": "markdown",
      "metadata": {
        "id": "M_463jVWIEd6",
        "colab_type": "text"
      },
      "source": [
        "# Inexact Move Function\n",
        "\n",
        "Let's see how we can incorporate **uncertain** motion into our motion update. We include the `sense` function that you've seen, which updates an initial distribution based on whether a robot senses a grid color: red or green. \n",
        "\n",
        "Next, you're tasked with modifying the `move` function so that it incorporates uncertainty in motion.\n",
        "\n",
        "\n"
      ]
    },
    {
      "cell_type": "markdown",
      "metadata": {
        "id": "7CKIVH06IEeA",
        "colab_type": "text"
      },
      "source": [
        "First let's include our usual resource imports and display function."
      ]
    },
    {
      "cell_type": "code",
      "metadata": {
        "id": "fPUw3_g6IEeE",
        "colab_type": "code",
        "colab": {}
      },
      "source": [
        "# importing resources\n",
        "import matplotlib.pyplot as plt\n",
        "import numpy as np"
      ],
      "execution_count": 0,
      "outputs": []
    },
    {
      "cell_type": "markdown",
      "metadata": {
        "id": "_ck99hM8IEeT",
        "colab_type": "text"
      },
      "source": [
        "A helper function for visualizing a distribution."
      ]
    },
    {
      "cell_type": "code",
      "metadata": {
        "id": "zn2X7VHBIEeX",
        "colab_type": "code",
        "colab": {}
      },
      "source": [
        "def display_map(grid, bar_width=1):\n",
        "    if(len(grid) > 0):\n",
        "        x_labels = range(len(grid))\n",
        "        plt.bar(x_labels, height=grid, width=bar_width, color='b')\n",
        "        plt.xlabel('Grid Cell')\n",
        "        plt.ylabel('Probability')\n",
        "        plt.ylim(0, 1) # range of 0-1 for probability values \n",
        "        plt.title('Probability of the robot being at each cell in the grid')\n",
        "        plt.xticks(np.arange(min(x_labels), max(x_labels)+1, 1))\n",
        "        plt.show()\n",
        "    else:\n",
        "        print('Grid is empty')\n"
      ],
      "execution_count": 0,
      "outputs": []
    },
    {
      "cell_type": "markdown",
      "metadata": {
        "collapsed": true,
        "id": "cxFXgu0VIEej",
        "colab_type": "text"
      },
      "source": [
        "You are given the initial variables and the complete `sense` function, below."
      ]
    },
    {
      "cell_type": "code",
      "metadata": {
        "id": "W1kelpFDIEen",
        "colab_type": "code",
        "colab": {}
      },
      "source": [
        "# given initial variables\n",
        "p=[0, 1, 0, 0, 0]\n",
        "# the color of each grid cell in the 1D world\n",
        "world=['green', 'red', 'red', 'green', 'green']\n",
        "# Z, the sensor reading ('red' or 'green')\n",
        "Z = 'red'\n",
        "pHit = 0.6\n",
        "pMiss = 0.2\n",
        "\n",
        "# You are given the complete sense function\n",
        "def sense(p, Z):\n",
        "    ''' Takes in a current probability distribution, p, and a sensor reading, Z.\n",
        "        Returns a *normalized* distribution after the sensor measurement has been made, q.\n",
        "        This should be accurate whether Z is 'red' or 'green'. '''\n",
        "    q=[]\n",
        "    # loop through all grid cells\n",
        "    for i in range(len(p)):\n",
        "        # check if the sensor reading is equal to the color of the grid cell\n",
        "        # if so, hit = 1\n",
        "        # if not, hit = 0\n",
        "        hit = (Z == world[i])\n",
        "        q.append(p[i] * (hit * pHit + (1-hit) * pMiss))\n",
        "        \n",
        "    # sum up all the components\n",
        "    s = sum(q)\n",
        "    # divide all elements of q by the sum to normalize\n",
        "    for i in range(len(p)):\n",
        "        q[i] = q[i] / s\n",
        "    return q\n",
        "\n",
        "# Commented out code for measurements\n",
        "# for k in range(len(measurements)):\n",
        "#     p = sense(p, measurements)\n"
      ],
      "execution_count": 0,
      "outputs": []
    },
    {
      "cell_type": "markdown",
      "metadata": {
        "id": "eU1kSw5hIEez",
        "colab_type": "text"
      },
      "source": [
        "### QUIZ: Modify the move function to accommodate the added probabilities of overshooting or undershooting the intended destination.\n",
        "\n",
        "This function should shift a distribution with the motion, U, with some probability of under/overshooting. For the given, initial `p`, you should see the result for U = 1 and incorporated uncertainties: `[0.0, 0.1, 0.8, 0.1, 0.0]`."
      ]
    },
    {
      "cell_type": "code",
      "metadata": {
        "id": "mT1zKHZrIEe2",
        "colab_type": "code",
        "colab": {
          "base_uri": "https://localhost:8080/",
          "height": 312
        },
        "outputId": "e5a03359-c970-4e22-df54-638521ae4fd1"
      },
      "source": [
        "## TODO: Modify the move function to accommodate the added robabilities of overshooting or undershooting \n",
        "pExact = 0.8\n",
        "pOvershoot = 0.1\n",
        "pUndershoot = 0.1\n",
        "\n",
        "# Complete the move function\n",
        "def move(p, U):\n",
        "    q=[]\n",
        "    # iterate through all values in p\n",
        "    for i in range(len(p)):\n",
        "        ## TODO: Modify this distribution code to incorporate values \n",
        "        ## for over/undershooting the exact location\n",
        "        \n",
        "        # use the modulo operator to find the new location for a p value\n",
        "        index = (i-U) % len(p)\n",
        "        s = pExact * p[(i-U) % len(p)]\n",
        "        s = s + pOvershoot * p[(i-U-1) % len(p)]\n",
        "        s = s + pUndershoot * p[(i-U+1) % len(p)]\n",
        "        \n",
        "        # append the correct, modified value of p to q\n",
        "        q.append(s)\n",
        "    return q\n",
        "\n",
        "## TODO: try this for U = 2 and see the result\n",
        "p = move(p,2)\n",
        "print(p)\n",
        "display_map(p)"
      ],
      "execution_count": 4,
      "outputs": [
        {
          "output_type": "stream",
          "text": [
            "[0.0, 0.0, 0.1, 0.8, 0.1]\n"
          ],
          "name": "stdout"
        },
        {
          "output_type": "display_data",
          "data": {
            "image/png": "[encoded data removed]",
            "text/plain": [
              "<Figure size 432x288 with 1 Axes>"
            ]
          },
          "metadata": {
            "tags": []
          }
        }
      ]
    },
    {
      "cell_type": "code",
      "metadata": {
        "id": "frEtBBMAIEfH",
        "colab_type": "code",
        "colab": {}
      },
      "source": [
        ""
      ],
      "execution_count": 0,
      "outputs": []
    },
    {
      "cell_type": "code",
      "metadata": {
        "id": "b7T46pr_IEfT",
        "colab_type": "code",
        "colab": {}
      },
      "source": [
        ""
      ],
      "execution_count": 0,
      "outputs": []
    }
  ]
}